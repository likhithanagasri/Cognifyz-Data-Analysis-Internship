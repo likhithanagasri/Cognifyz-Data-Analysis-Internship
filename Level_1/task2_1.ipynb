{
 "cells": [
  {
   "cell_type": "markdown",
   "id": "32d24ff9-b899-4630-ba13-240a3ffd1216",
   "metadata": {},
   "source": [
    "# Task2: City Analysis"
   ]
  },
  {
   "cell_type": "code",
   "execution_count": 4,
   "id": "3c328d47-4f85-4cb1-81ba-92ed80d65bdc",
   "metadata": {},
   "outputs": [],
   "source": [
    "import pandas as pd\n",
    "import numpy as np\n",
    "import matplotlib.pyplot as plt\n",
    "df = pd.read_csv('restaurants.csv')"
   ]
  },
  {
   "cell_type": "code",
   "execution_count": 5,
   "id": "93c9f4a6-eb31-46e7-8713-622fe4ee0b13",
   "metadata": {},
   "outputs": [
    {
     "name": "stdout",
     "output_type": "stream",
     "text": [
      "Index(['Restaurant ID', 'Restaurant Name', 'Country Code', 'City', 'Address',\n",
      "       'Locality', 'Locality Verbose', 'Longitude', 'Latitude', 'Cuisines',\n",
      "       'Average Cost for two', 'Currency', 'Has Table booking',\n",
      "       'Has Online delivery', 'Is delivering now', 'Switch to order menu',\n",
      "       'Price range', 'Aggregate rating', 'Rating color', 'Rating text',\n",
      "       'Votes'],\n",
      "      dtype='object')\n"
     ]
    }
   ],
   "source": [
    "print(df.columns)"
   ]
  },
  {
   "cell_type": "markdown",
   "id": "0064556a-4fee-4cc1-a970-5a7a32c6aad6",
   "metadata": {},
   "source": [
    "### Identify the city with the highest number of restaurants in the dataset."
   ]
  },
  {
   "cell_type": "code",
   "execution_count": 7,
   "id": "77e46ae2-58fa-4a92-af5b-5c67db115ae6",
   "metadata": {},
   "outputs": [
    {
     "name": "stdout",
     "output_type": "stream",
     "text": [
      "City with the highest number of restaurants: New Delhi\n",
      "City\n",
      "New Delhi    5473\n",
      "Name: count, dtype: int64\n"
     ]
    }
   ],
   "source": [
    "city_count=df['City'].value_counts()\n",
    "restaurants_no=city_count.head(1)\n",
    "print(\"City with the highest number of restaurants:\", city_count.idxmax())\n",
    "print(restaurants_no)"
   ]
  },
  {
   "cell_type": "markdown",
   "id": "52975a68-c9d1-4e71-9472-bc804b756935",
   "metadata": {},
   "source": [
    "### calculating the average rating for restaurants in each city"
   ]
  },
  {
   "cell_type": "code",
   "execution_count": 9,
   "id": "cb13b974-1d31-4f1e-96ac-804c5166202c",
   "metadata": {},
   "outputs": [
    {
     "name": "stdout",
     "output_type": "stream",
     "text": [
      "The average Rating of each city City\n",
      "Abu Dhabi          4.300000\n",
      "Agra               3.965000\n",
      "Ahmedabad          4.161905\n",
      "Albany             3.555000\n",
      "Allahabad          3.395000\n",
      "                     ...   \n",
      "Weirton            3.900000\n",
      "Wellington City    4.250000\n",
      "Winchester Bay     3.200000\n",
      "Yorkton            3.300000\n",
      "��stanbul          4.292857\n",
      "Name: Aggregate rating, Length: 141, dtype: float64\n"
     ]
    }
   ],
   "source": [
    "rating_by_each_city=df.groupby('City')['Aggregate rating'].mean()\n",
    "print(\"The average Rating of each city\", rating_by_each_city)"
   ]
  },
  {
   "cell_type": "markdown",
   "id": "e17655fa-8a6f-440a-8939-5cb0d0dc16cb",
   "metadata": {},
   "source": [
    "### Determine the city with the highest average rating."
   ]
  },
  {
   "cell_type": "code",
   "execution_count": 11,
   "id": "013ae53e-3272-4627-bc3d-265da02c00d9",
   "metadata": {},
   "outputs": [
    {
     "name": "stdout",
     "output_type": "stream",
     "text": [
      "The city with Highest Avg. Rating is:  Inner City , Rating - 4.9\n"
     ]
    }
   ],
   "source": [
    "top_rated_city=rating_by_each_city.idxmax()\n",
    "value=rating_by_each_city.max()\n",
    "print(\"The city with Highest Avg. Rating is: \",top_rated_city,\",\", \"Rating -\", value)"
   ]
  },
  {
   "cell_type": "code",
   "execution_count": null,
   "id": "92966127-a8be-4d88-b215-7149ce0e6bee",
   "metadata": {},
   "outputs": [],
   "source": []
  }
 ],
 "metadata": {
  "kernelspec": {
   "display_name": "Python [conda env:base] *",
   "language": "python",
   "name": "conda-base-py"
  },
  "language_info": {
   "codemirror_mode": {
    "name": "ipython",
    "version": 3
   },
   "file_extension": ".py",
   "mimetype": "text/x-python",
   "name": "python",
   "nbconvert_exporter": "python",
   "pygments_lexer": "ipython3",
   "version": "3.12.7"
  }
 },
 "nbformat": 4,
 "nbformat_minor": 5
}
