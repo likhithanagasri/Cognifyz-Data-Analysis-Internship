{
 "cells": [
  {
   "cell_type": "markdown",
   "id": "4c0a09d8-90f1-43ce-9892-bce4011ab030",
   "metadata": {},
   "source": [
    "# Task2: Cuisine Combination"
   ]
  },
  {
   "cell_type": "code",
   "execution_count": 1,
   "id": "bec2e951-1156-4524-aa19-efb7ac0b920b",
   "metadata": {},
   "outputs": [],
   "source": [
    "import pandas as pd\n",
    "import numpy as np\n",
    "import matplotlib.pyplot as plt"
   ]
  },
  {
   "cell_type": "code",
   "execution_count": 2,
   "id": "807ff444-9d95-420b-a321-839e3c6342df",
   "metadata": {},
   "outputs": [],
   "source": [
    "dt = pd.read_csv('restaurants.csv')"
   ]
  },
  {
   "cell_type": "markdown",
   "id": "ca8fd958-43ea-455d-b089-9913b42ce3f0",
   "metadata": {},
   "source": [
    "### Identify the most common combinations of cuisines in the dataset."
   ]
  },
  {
   "cell_type": "code",
   "execution_count": 3,
   "id": "5ceb0b74-f436-4fe6-8cd1-bbe2230b8ea3",
   "metadata": {},
   "outputs": [
    {
     "name": "stdout",
     "output_type": "stream",
     "text": [
      "Top 10 most common combinations are:  Cuisines\n",
      "Italian, Deli               4.9\n",
      "Hawaiian, Seafood           4.9\n",
      "American, Sandwich, Tea     4.9\n",
      "Continental, Indian         4.9\n",
      "European, Asian, Indian     4.9\n",
      "European, Contemporary      4.9\n",
      "European, German            4.9\n",
      "BBQ, Breakfast, Southern    4.9\n",
      "American, Coffee and Tea    4.9\n",
      "Sunda, Indonesian           4.9\n",
      "Name: Aggregate rating, dtype: float64\n"
     ]
    }
   ],
   "source": [
    "common_combinations=dt.groupby('Cuisines')['Aggregate rating'].mean().sort_values(ascending=False)\n",
    "top10=common_combinations.head(10)\n",
    "print(\"Top 10 most common combinations are: \",top10)"
   ]
  },
  {
   "cell_type": "markdown",
   "id": "81c25b59-8c89-49a6-9ced-74f04487c33b",
   "metadata": {},
   "source": [
    "### Determine if certain cuisine combinations tend to have higher ratings."
   ]
  },
  {
   "cell_type": "code",
   "execution_count": 5,
   "id": "dc0a295a-9c14-4213-8fde-89a16803581f",
   "metadata": {},
   "outputs": [
    {
     "name": "stdout",
     "output_type": "stream",
     "text": [
      "The Max Rating is:  4.9\n"
     ]
    }
   ],
   "source": [
    "max_rating=common_combinations.iloc[0]\n",
    "print(\"The Max Rating is: \",max_rating)"
   ]
  },
  {
   "cell_type": "code",
   "execution_count": 6,
   "id": "5a25eb6d-6f1c-43f4-b41d-96422ba2869e",
   "metadata": {},
   "outputs": [
    {
     "name": "stdout",
     "output_type": "stream",
     "text": [
      "Restaurants having the maximum rating:  3                                           Ooma\n",
      "8       Spiral - Sofitel Philippine Plaza Manila\n",
      "10                              Silantro Fil-Mex\n",
      "39                                    Coco Bambu\n",
      "48                            Braseiro da G��vea\n",
      "                          ...                   \n",
      "9484              Restaurant Mosaic @ The Orient\n",
      "9514                            Ministry of Crab\n",
      "9524                                Gaga Manjero\n",
      "9538                                   Starbucks\n",
      "9540                            Draft Gastro Pub\n",
      "Name: Restaurant Name, Length: 61, dtype: object\n"
     ]
    }
   ],
   "source": [
    "max_rated_rest=dt.loc[dt['Aggregate rating']==max_rating]\n",
    "print(\"Restaurants having the maximum rating: \",max_rated_rest['Restaurant Name'])"
   ]
  }
 ],
 "metadata": {
  "kernelspec": {
   "display_name": "Python [conda env:base] *",
   "language": "python",
   "name": "conda-base-py"
  },
  "language_info": {
   "codemirror_mode": {
    "name": "ipython",
    "version": 3
   },
   "file_extension": ".py",
   "mimetype": "text/x-python",
   "name": "python",
   "nbconvert_exporter": "python",
   "pygments_lexer": "ipython3",
   "version": "3.12.7"
  }
 },
 "nbformat": 4,
 "nbformat_minor": 5
}
